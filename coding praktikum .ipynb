{
 "cells": [
  {
   "cell_type": "markdown",
   "id": "2705c320",
   "metadata": {},
   "source": [
    "Latihan\n",
    "\n",
    "1.Buatlah variabel dengan nama hobi, yang digunakan untuk menampung input dari user dengan label \"Hobi kamu apa? : \" , kemudian Cetaklah dengan label Hobi kamu : {hobi}\n",
    "\n",
    "2.Buatlah variabel nama, yang digunakan untuk menampung input dari user dengan label \"Siapa nama kamu? : \" , misal user mengisikan nama \"Romi\" maka akan tampil output Nama kamu berawalan huruf R"
   ]
  },
  {
   "cell_type": "code",
   "execution_count": 2,
   "id": "795ab029",
   "metadata": {},
   "outputs": [
    {
     "name": "stdout",
     "output_type": "stream",
     "text": [
      "Jawaban No. 1\n",
      "Hobi kamu apa? :bernyanyi\n",
      "Hobi kamu : bernyanyi\n"
     ]
    }
   ],
   "source": [
    "print('Jawaban No. 1')\n",
    "\n",
    "hobi = input('Hobi kamu apa? :')\n",
    "print(f\"Hobi kamu : {hobi}\")"
   ]
  },
  {
   "cell_type": "code",
   "execution_count": 3,
   "id": "37ab3c11",
   "metadata": {},
   "outputs": [
    {
     "name": "stdout",
     "output_type": "stream",
     "text": [
      "Jawaban No. 2\n",
      "Siapa nama kamu :Nurazizah zahra\n",
      "Nama kamu berawalan huruf N\n"
     ]
    }
   ],
   "source": [
    "print(\"Jawaban No. 2\")\n",
    "\n",
    "nama = input('Siapa nama kamu :')\n",
    "print(f\"Nama kamu berawalan huruf {nama[0]}\")"
   ]
  },
  {
   "cell_type": "markdown",
   "id": "6a37f3f2",
   "metadata": {},
   "source": [
    "Latihan\n",
    "\n",
    "1.Buatlah program tebak hasil dari perkalian dari 2 angka dari 0 sampai 100, jika user menjawab benar maka tampil Jawaban anda True dan jika salah, maka akan tampil Jawaban anda False"
   ]
  },
  {
   "cell_type": "code",
   "execution_count": 11,
   "id": "bc707772",
   "metadata": {},
   "outputs": [
    {
     "name": "stdout",
     "output_type": "stream",
     "text": [
      "Jawaban Tebak Perkalian 2 Angka\n",
      "Berapakah hasil perkalian 48 dan 65 : 3120\n",
      "Jawaban anda True\n"
     ]
    }
   ],
   "source": [
    "print(\"Jawaban Tebak Perkalian 2 Angka\")\n",
    "\n",
    "from random import randint\n",
    "angka_1 = randint(0,100)\n",
    "angka_2 = randint(0,100)\n",
    "\n",
    "hasil = int(input(f\"Berapakah hasil perkalian {angka_1} dan {angka_2} : \"))\n",
    "print(f\"Jawaban anda {hasil==angka_1 * angka_2}\")"
   ]
  },
  {
   "cell_type": "markdown",
   "id": "7cf52bf0",
   "metadata": {},
   "source": [
    "Latihan\n",
    "\n",
    "Carilah kode CLDR Names dan unicode dari emoji, dan cetaklah menggunakan fungsi print"
   ]
  },
  {
   "cell_type": "code",
   "execution_count": 6,
   "id": "1348c9bb",
   "metadata": {},
   "outputs": [
    {
     "name": "stdout",
     "output_type": "stream",
     "text": [
      "Names : grinning face\n",
      "Unicode : U0001F600\n",
      "Hasil : 😀\n",
      "\n",
      "Names : rolling on the floor laughing\n",
      "Unicode : U0001F923\n",
      "Hasil : 🤣\n"
     ]
    }
   ],
   "source": [
    "print(\"Names : grinning face\")\n",
    "print(\"Unicode : U0001F600\")\n",
    "print(\"Hasil : \\U0001F600\")\n",
    "\n",
    "print(\"\\nNames : rolling on the floor laughing\")\n",
    "print(\"Unicode : U0001F923\")\n",
    "print(\"Hasil : \\U0001F923\")"
   ]
  },
  {
   "cell_type": "markdown",
   "id": "cd79d2fd",
   "metadata": {},
   "source": [
    "Latihan\n",
    "\n",
    "Jika terdapat sebuah string Belajar Pemrograman Python Maka tampilkan output berikut ini menggunakan fungsi print\n",
    "\n",
    "1.Belajar\n",
    "\n",
    "2.ajar\n",
    "\n",
    "3.Pemrograman\n",
    "\n",
    "4.gram\n",
    "\n",
    "5.Python\n",
    "\n",
    "6.Py\n",
    "\n",
    "7.gramPython\n",
    "\n",
    "8.Pemrograman Python"
   ]
  },
  {
   "cell_type": "code",
   "execution_count": 8,
   "id": "4157004a",
   "metadata": {},
   "outputs": [
    {
     "name": "stdout",
     "output_type": "stream",
     "text": [
      "1.Belajar\n",
      "2.ajar\n",
      "3.Pemrograman\n",
      "4.gram\n",
      "5.Python\n",
      "6.Py\n",
      "7.gram Python\n",
      "8.Pemrograman Python\n"
     ]
    }
   ],
   "source": [
    "kalimat = \"Belajar Pemrograman Python\"\n",
    "print(f'1.{kalimat[0:7]}')\n",
    "print(f'2.{kalimat[3:7]}')\n",
    "print(f'3.{kalimat[8:19]}')\n",
    "print(f'4.{kalimat[13:17]}')\n",
    "print(f'5.{kalimat[20:26]}')\n",
    "print(f'6.{kalimat[20:22]}')\n",
    "print(f'7.{kalimat[13:17]} {kalimat[20:26]}')\n",
    "print(f'8.{kalimat[8:19]} {kalimat[20:26]}')"
   ]
  },
  {
   "cell_type": "markdown",
   "id": "98c894a4",
   "metadata": {},
   "source": [
    "Latihan\n",
    "\n",
    "1. Buatlah program untuk mengecek bahwa sebuah email termasuk valid atau tidak. Valid diartikan True dan tidak valid diartikan False Berikut contoh test case yang bisa digunakan sebagai acuan\n",
    "\n",
    "alunsujjada@gmailcom -> False\n",
    "\n",
    "alunsujjada@gmail.com -> True\n",
    "\n",
    "alun.sujjada@gmail.com -> False\n",
    "\n",
    "alunsujjada.gmail.com -> False\n",
    "\n",
    "alun.sujjada@gmailcom -> False"
   ]
  },
  {
   "cell_type": "code",
   "execution_count": 9,
   "id": "1b88e5fb",
   "metadata": {},
   "outputs": [
    {
     "name": "stdout",
     "output_type": "stream",
     "text": [
      "False\n",
      "True\n",
      "False\n",
      "False\n",
      "False\n"
     ]
    }
   ],
   "source": [
    "email_1 = \"alunsujjada@gmailcom\"\n",
    "print(email_1.endswith(\"@gmail.com\"))\n",
    "\n",
    "email_2 = \"alunsujjada@gmail.com\"\n",
    "print(email_2.endswith(\"@gmail.com\"))\n",
    "\n",
    "email_3 = \"alun.sujjada@gmail.com\"\n",
    "print(email_3.startswith(\"aluns\"))\n",
    "\n",
    "email_4 = \"alunsujjada.gmail.com\"\n",
    "print(email_4.endswith(\"@gmail.com\"))\n",
    "\n",
    "email_5 = \"alun.sujjada@gmailcom\"\n",
    "print(email_5.endswith(\"@gmail.com\")) \n",
    "\n"
   ]
  },
  {
   "cell_type": "code",
   "execution_count": null,
   "id": "ca0ea90c",
   "metadata": {},
   "outputs": [],
   "source": []
  }
 ],
 "metadata": {
  "kernelspec": {
   "display_name": "Python 3 (ipykernel)",
   "language": "python",
   "name": "python3"
  },
  "language_info": {
   "codemirror_mode": {
    "name": "ipython",
    "version": 3
   },
   "file_extension": ".py",
   "mimetype": "text/x-python",
   "name": "python",
   "nbconvert_exporter": "python",
   "pygments_lexer": "ipython3",
   "version": "3.9.12"
  }
 },
 "nbformat": 4,
 "nbformat_minor": 5
}
